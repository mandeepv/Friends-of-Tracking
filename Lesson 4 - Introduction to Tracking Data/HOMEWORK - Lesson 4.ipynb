{
 "cells": [
  {
   "cell_type": "markdown",
   "metadata": {},
   "source": [
    "# FRIENDS OF TRACKING\n",
    "## Lesson 4 Homework"
   ]
  },
  {
   "cell_type": "markdown",
   "metadata": {},
   "source": [
    "The following is the code of the homework given in Lesson 4 revolving around Tracking data."
   ]
  },
  {
   "cell_type": "markdown",
   "metadata": {},
   "source": [
    "Special Thanks to Laurie for giving me my first taste of tracking Data. Also, thanks to Metrica Sports for providing with the sample dataset."
   ]
  },
  {
   "cell_type": "markdown",
   "metadata": {},
   "source": [
    "The Questions are given below."
   ]
  },
  {
   "cell_type": "markdown",
    "metadata": {},
    "source": [
     "https://imgur.com/a/GIIlw5E"
     ]
   },
  {
   "cell_type": "markdown",
   "metadata": {},
   "source": [
    "Below I've tried to solve the questions. Please let me know if the code could be improved in any way."
   ]
  },
  {
   "cell_type": "code",
   "execution_count": 123,
   "metadata": {},
   "outputs": [],
   "source": [
    "#Importing utility code\n",
    "import Metrica_IO as mio\n",
    "import Metrica_Viz as mviz"
   ]
  },
  {
   "cell_type": "code",
   "execution_count": 124,
   "metadata": {},
   "outputs": [],
   "source": [
    "# set up initial path to data\n",
    "DATADIR = 'D:/Users/Desktop/Friends of Tracking/Lesson 4/Metrica Data/data'\n",
    "game_id = 2 # let's look at sample match 2"
   ]
  },
  {
   "cell_type": "code",
   "execution_count": 125,
   "metadata": {},
   "outputs": [],
   "source": [
    "# read in the event data\n",
    "events = mio.read_event_data(DATADIR,game_id)"
   ]
  },
  {
   "cell_type": "markdown",
   "metadata": {},
   "source": [
    "Converting to Metric coordinates"
   ]
  },
  {
   "cell_type": "code",
   "execution_count": 126,
   "metadata": {},
   "outputs": [],
   "source": [
    "events = mio.to_metric_coordinates(events)"
   ]
  },
  {
   "cell_type": "markdown",
   "metadata": {},
   "source": [
    "Let's See when the goals happened"
   ]
  },
  {
   "cell_type": "code",
   "execution_count": 127,
   "metadata": {
    "scrolled": true
   },
   "outputs": [
    {
     "data": {
      "text/html": [
       "<div>\n",
       "<style scoped>\n",
       "    .dataframe tbody tr th:only-of-type {\n",
       "        vertical-align: middle;\n",
       "    }\n",
       "\n",
       "    .dataframe tbody tr th {\n",
       "        vertical-align: top;\n",
       "    }\n",
       "\n",
       "    .dataframe thead th {\n",
       "        text-align: right;\n",
       "    }\n",
       "</style>\n",
       "<table border=\"1\" class=\"dataframe\">\n",
       "  <thead>\n",
       "    <tr style=\"text-align: right;\">\n",
       "      <th></th>\n",
       "      <th>Team</th>\n",
       "      <th>Type</th>\n",
       "      <th>Subtype</th>\n",
       "      <th>Period</th>\n",
       "      <th>Start Frame</th>\n",
       "      <th>Start Time [s]</th>\n",
       "      <th>End Frame</th>\n",
       "      <th>End Time [s]</th>\n",
       "      <th>From</th>\n",
       "      <th>To</th>\n",
       "      <th>Start X</th>\n",
       "      <th>Start Y</th>\n",
       "      <th>End X</th>\n",
       "      <th>End Y</th>\n",
       "    </tr>\n",
       "  </thead>\n",
       "  <tbody>\n",
       "    <tr>\n",
       "      <th>198</th>\n",
       "      <td>Home</td>\n",
       "      <td>SHOT</td>\n",
       "      <td>ON TARGET-GOAL</td>\n",
       "      <td>1</td>\n",
       "      <td>12202</td>\n",
       "      <td>488.08</td>\n",
       "      <td>12212</td>\n",
       "      <td>488.48</td>\n",
       "      <td>Player10</td>\n",
       "      <td>NaN</td>\n",
       "      <td>-47.70</td>\n",
       "      <td>-3.40</td>\n",
       "      <td>-54.06</td>\n",
       "      <td>-2.04</td>\n",
       "    </tr>\n",
       "    <tr>\n",
       "      <th>823</th>\n",
       "      <td>Away</td>\n",
       "      <td>SHOT</td>\n",
       "      <td>ON TARGET-GOAL</td>\n",
       "      <td>1</td>\n",
       "      <td>53049</td>\n",
       "      <td>2121.96</td>\n",
       "      <td>53075</td>\n",
       "      <td>2123.00</td>\n",
       "      <td>Player24</td>\n",
       "      <td>NaN</td>\n",
       "      <td>44.52</td>\n",
       "      <td>2.72</td>\n",
       "      <td>54.06</td>\n",
       "      <td>1.36</td>\n",
       "    </tr>\n",
       "    <tr>\n",
       "      <th>1671</th>\n",
       "      <td>Away</td>\n",
       "      <td>SHOT</td>\n",
       "      <td>ON TARGET-GOAL</td>\n",
       "      <td>2</td>\n",
       "      <td>115009</td>\n",
       "      <td>4600.36</td>\n",
       "      <td>115024</td>\n",
       "      <td>4600.96</td>\n",
       "      <td>Player20</td>\n",
       "      <td>NaN</td>\n",
       "      <td>-40.28</td>\n",
       "      <td>-1.36</td>\n",
       "      <td>-55.12</td>\n",
       "      <td>-2.72</td>\n",
       "    </tr>\n",
       "    <tr>\n",
       "      <th>1723</th>\n",
       "      <td>Home</td>\n",
       "      <td>SHOT</td>\n",
       "      <td>ON TARGET-GOAL</td>\n",
       "      <td>2</td>\n",
       "      <td>121027</td>\n",
       "      <td>4841.08</td>\n",
       "      <td>121055</td>\n",
       "      <td>4842.20</td>\n",
       "      <td>Player12</td>\n",
       "      <td>NaN</td>\n",
       "      <td>30.74</td>\n",
       "      <td>-5.44</td>\n",
       "      <td>54.06</td>\n",
       "      <td>-2.72</td>\n",
       "    </tr>\n",
       "  </tbody>\n",
       "</table>\n",
       "</div>"
      ],
      "text/plain": [
       "      Team  Type         Subtype  Period  Start Frame  Start Time [s]  \\\n",
       "198   Home  SHOT  ON TARGET-GOAL       1        12202          488.08   \n",
       "823   Away  SHOT  ON TARGET-GOAL       1        53049         2121.96   \n",
       "1671  Away  SHOT  ON TARGET-GOAL       2       115009         4600.36   \n",
       "1723  Home  SHOT  ON TARGET-GOAL       2       121027         4841.08   \n",
       "\n",
       "      End Frame  End Time [s]      From   To  Start X  Start Y  End X  End Y  \n",
       "198       12212        488.48  Player10  NaN   -47.70    -3.40 -54.06  -2.04  \n",
       "823       53075       2123.00  Player24  NaN    44.52     2.72  54.06   1.36  \n",
       "1671     115024       4600.96  Player20  NaN   -40.28    -1.36 -55.12  -2.72  \n",
       "1723     121055       4842.20  Player12  NaN    30.74    -5.44  54.06  -2.72  "
      ]
     },
     "execution_count": 127,
     "metadata": {},
     "output_type": "execute_result"
    }
   ],
   "source": [
    "events[events['Subtype']=='ON TARGET-GOAL']"
   ]
  },
  {
   "cell_type": "markdown",
   "metadata": {},
   "source": [
    "# Question 1"
   ]
  },
  {
   "cell_type": "markdown",
   "metadata": {},
   "source": [
    "## For 2nd Goal"
   ]
  },
  {
   "cell_type": "code",
   "execution_count": 128,
   "metadata": {},
   "outputs": [
    {
     "name": "stdout",
     "output_type": "stream",
     "text": [
      "817\n"
     ]
    }
   ],
   "source": [
    "#Finding the start of Pass Sequence that lead up to goal.\n",
    "i=822\n",
    "while(events.loc[i]['Type']=='PASS'):\n",
    "    i=i-1\n",
    "print(i)"
   ]
  },
  {
   "cell_type": "code",
   "execution_count": 129,
   "metadata": {
    "scrolled": false
   },
   "outputs": [
    {
     "data": {
      "text/plain": [
       "(<Figure size 864x576 with 1 Axes>,\n",
       " <matplotlib.axes._subplots.AxesSubplot at 0x23eccbb1668>)"
      ]
     },
     "execution_count": 129,
     "metadata": {},
     "output_type": "execute_result"
    },
    {
     "data": {
      "image/png": "[encoded data removed]",
      "text/plain": [
       "<Figure size 864x576 with 1 Axes>"
      ]
     },
     "metadata": {},
     "output_type": "display_data"
    }
   ],
   "source": [
    "# plot passing move in run up to goal\n",
    "mviz.plot_events( events.loc[i+1:823], indicators = ['Marker','Arrow'], annotate=True )"
   ]
  },
  {
   "cell_type": "markdown",
   "metadata": {},
   "source": [
    "## For 3rd Goal"
   ]
  },
  {
   "cell_type": "code",
   "execution_count": 130,
   "metadata": {},
   "outputs": [
    {
     "name": "stdout",
     "output_type": "stream",
     "text": [
      "1670\n"
     ]
    },
    {
     "data": {
      "text/plain": [
       "(<Figure size 864x576 with 1 Axes>,\n",
       " <matplotlib.axes._subplots.AxesSubplot at 0x23eccb1d588>)"
      ]
     },
     "execution_count": 130,
     "metadata": {},
     "output_type": "execute_result"
    },
    {
     "data": {
      "image/png": "[encoded data removed]",
      "text/plain": [
       "<Figure size 864x576 with 1 Axes>"
      ]
     },
     "metadata": {},
     "output_type": "display_data"
    }
   ],
   "source": [
    "#Finding the start of Pass Sequence that lead up to goal.\n",
    "i=1670\n",
    "while(events.loc[i]['Type']=='PASS'):\n",
    "    i=i-1\n",
    "print(i)\n",
    "\n",
    "# plot passing move in run up to goal\n",
    "mviz.plot_events( events.loc[i+1:1671], indicators = ['Marker','Arrow'], annotate=True )"
   ]
  },
  {
   "cell_type": "markdown",
   "metadata": {},
   "source": [
    "Welp, the 3rd Goal was a penalty so there are no passes that lead up to it."
   ]
  },
  {
   "cell_type": "markdown",
   "metadata": {},
   "source": [
    "# Question 2"
   ]
  },
  {
   "cell_type": "code",
   "execution_count": 131,
   "metadata": {},
   "outputs": [],
   "source": [
    "home_player9_shots = events[(events['Type']=='SHOT') & (events['Team']=='Home') & (events['From']=='Player9')]"
   ]
  },
  {
   "cell_type": "code",
   "execution_count": 132,
   "metadata": {},
   "outputs": [
    {
     "data": {
      "text/html": [
       "<div>\n",
       "<style scoped>\n",
       "    .dataframe tbody tr th:only-of-type {\n",
       "        vertical-align: middle;\n",
       "    }\n",
       "\n",
       "    .dataframe tbody tr th {\n",
       "        vertical-align: top;\n",
       "    }\n",
       "\n",
       "    .dataframe thead th {\n",
       "        text-align: right;\n",
       "    }\n",
       "</style>\n",
       "<table border=\"1\" class=\"dataframe\">\n",
       "  <thead>\n",
       "    <tr style=\"text-align: right;\">\n",
       "      <th></th>\n",
       "      <th>Team</th>\n",
       "      <th>Type</th>\n",
       "      <th>Subtype</th>\n",
       "      <th>Period</th>\n",
       "      <th>Start Frame</th>\n",
       "      <th>Start Time [s]</th>\n",
       "      <th>End Frame</th>\n",
       "      <th>End Time [s]</th>\n",
       "      <th>From</th>\n",
       "      <th>To</th>\n",
       "      <th>Start X</th>\n",
       "      <th>Start Y</th>\n",
       "      <th>End X</th>\n",
       "      <th>End Y</th>\n",
       "    </tr>\n",
       "  </thead>\n",
       "  <tbody>\n",
       "    <tr>\n",
       "      <th>1118</th>\n",
       "      <td>Home</td>\n",
       "      <td>SHOT</td>\n",
       "      <td>HEAD-ON TARGET-GOAL</td>\n",
       "      <td>2</td>\n",
       "      <td>73983</td>\n",
       "      <td>2959.32</td>\n",
       "      <td>73995</td>\n",
       "      <td>2959.8</td>\n",
       "      <td>Player9</td>\n",
       "      <td>NaN</td>\n",
       "      <td>47.70</td>\n",
       "      <td>-1.36</td>\n",
       "      <td>54.06</td>\n",
       "      <td>-2.04</td>\n",
       "    </tr>\n",
       "    <tr>\n",
       "      <th>1681</th>\n",
       "      <td>Home</td>\n",
       "      <td>SHOT</td>\n",
       "      <td>HEAD-OFF TARGET-OUT</td>\n",
       "      <td>2</td>\n",
       "      <td>117218</td>\n",
       "      <td>4688.72</td>\n",
       "      <td>117245</td>\n",
       "      <td>4689.8</td>\n",
       "      <td>Player9</td>\n",
       "      <td>NaN</td>\n",
       "      <td>41.34</td>\n",
       "      <td>-7.48</td>\n",
       "      <td>54.06</td>\n",
       "      <td>5.44</td>\n",
       "    </tr>\n",
       "    <tr>\n",
       "      <th>1756</th>\n",
       "      <td>Home</td>\n",
       "      <td>SHOT</td>\n",
       "      <td>HEAD-OFF TARGET-OUT</td>\n",
       "      <td>2</td>\n",
       "      <td>124336</td>\n",
       "      <td>4973.44</td>\n",
       "      <td>124365</td>\n",
       "      <td>4974.6</td>\n",
       "      <td>Player9</td>\n",
       "      <td>NaN</td>\n",
       "      <td>45.58</td>\n",
       "      <td>-0.00</td>\n",
       "      <td>55.12</td>\n",
       "      <td>-7.48</td>\n",
       "    </tr>\n",
       "    <tr>\n",
       "      <th>1927</th>\n",
       "      <td>Home</td>\n",
       "      <td>SHOT</td>\n",
       "      <td>ON TARGET-SAVED</td>\n",
       "      <td>2</td>\n",
       "      <td>139891</td>\n",
       "      <td>5595.64</td>\n",
       "      <td>139925</td>\n",
       "      <td>5597.0</td>\n",
       "      <td>Player9</td>\n",
       "      <td>NaN</td>\n",
       "      <td>21.20</td>\n",
       "      <td>-1.36</td>\n",
       "      <td>50.88</td>\n",
       "      <td>-1.36</td>\n",
       "    </tr>\n",
       "  </tbody>\n",
       "</table>\n",
       "</div>"
      ],
      "text/plain": [
       "      Team  Type              Subtype  Period  Start Frame  Start Time [s]  \\\n",
       "1118  Home  SHOT  HEAD-ON TARGET-GOAL       2        73983         2959.32   \n",
       "1681  Home  SHOT  HEAD-OFF TARGET-OUT       2       117218         4688.72   \n",
       "1756  Home  SHOT  HEAD-OFF TARGET-OUT       2       124336         4973.44   \n",
       "1927  Home  SHOT      ON TARGET-SAVED       2       139891         5595.64   \n",
       "\n",
       "      End Frame  End Time [s]     From   To  Start X  Start Y  End X  End Y  \n",
       "1118      73995        2959.8  Player9  NaN    47.70    -1.36  54.06  -2.04  \n",
       "1681     117245        4689.8  Player9  NaN    41.34    -7.48  54.06   5.44  \n",
       "1756     124365        4974.6  Player9  NaN    45.58    -0.00  55.12  -7.48  \n",
       "1927     139925        5597.0  Player9  NaN    21.20    -1.36  50.88  -1.36  "
      ]
     },
     "execution_count": 132,
     "metadata": {},
     "output_type": "execute_result"
    }
   ],
   "source": [
    "home_player9_shots"
   ]
  },
  {
   "cell_type": "markdown",
   "metadata": {},
   "source": [
    "The goal has a blue color with transparency 1. Moreover, it's denoted by a box."
   ]
  },
  {
   "cell_type": "code",
   "execution_count": 133,
   "metadata": {},
   "outputs": [
    {
     "data": {
      "image/png": "[encoded data removed]",
      "text/plain": [
       "<Figure size 864x576 with 1 Axes>"
      ]
     },
     "metadata": {},
     "output_type": "display_data"
    }
   ],
   "source": [
    "fig,ax = mviz.plot_pitch()\n",
    "for i in home_player9_shots.index:\n",
    "    if '-GOAL' in home_player9_shots.loc[i]['Subtype']:\n",
    "        ax.plot( events.loc[i]['Start X'], events.loc[i]['Start Y'], 'bs' )\n",
    "        ax.annotate(\"\", xy=events.loc[i][['End X','End Y']], xytext=events.loc[i][['Start X','Start Y']], alpha=1, arrowprops=dict(arrowstyle=\"->\",color='b'),zorder=2)\n",
    "    else:\n",
    "        ax.plot( events.loc[i]['Start X'], events.loc[i]['Start Y'], 'ro',alpha=0.5)\n",
    "        ax.annotate(\"\", xy=events.loc[i][['End X','End Y']], xytext=events.loc[i][['Start X','Start Y']], alpha=0.2, arrowprops=dict(arrowstyle=\"->\",color='r',alpha=0.5))"
   ]
  },
  {
   "cell_type": "markdown",
   "metadata": {},
   "source": [
    "# Question 3"
   ]
  },
  {
   "cell_type": "code",
   "execution_count": 134,
   "metadata": {},
   "outputs": [
    {
     "data": {
      "text/html": [
       "<div>\n",
       "<style scoped>\n",
       "    .dataframe tbody tr th:only-of-type {\n",
       "        vertical-align: middle;\n",
       "    }\n",
       "\n",
       "    .dataframe tbody tr th {\n",
       "        vertical-align: top;\n",
       "    }\n",
       "\n",
       "    .dataframe thead th {\n",
       "        text-align: right;\n",
       "    }\n",
       "</style>\n",
       "<table border=\"1\" class=\"dataframe\">\n",
       "  <thead>\n",
       "    <tr style=\"text-align: right;\">\n",
       "      <th></th>\n",
       "      <th>Team</th>\n",
       "      <th>Type</th>\n",
       "      <th>Subtype</th>\n",
       "      <th>Period</th>\n",
       "      <th>Start Frame</th>\n",
       "      <th>Start Time [s]</th>\n",
       "      <th>End Frame</th>\n",
       "      <th>End Time [s]</th>\n",
       "      <th>From</th>\n",
       "      <th>To</th>\n",
       "      <th>Start X</th>\n",
       "      <th>Start Y</th>\n",
       "      <th>End X</th>\n",
       "      <th>End Y</th>\n",
       "    </tr>\n",
       "  </thead>\n",
       "  <tbody>\n",
       "    <tr>\n",
       "      <th>1118</th>\n",
       "      <td>Home</td>\n",
       "      <td>SHOT</td>\n",
       "      <td>HEAD-ON TARGET-GOAL</td>\n",
       "      <td>2</td>\n",
       "      <td>73983</td>\n",
       "      <td>2959.32</td>\n",
       "      <td>73995</td>\n",
       "      <td>2959.8</td>\n",
       "      <td>Player9</td>\n",
       "      <td>NaN</td>\n",
       "      <td>47.70</td>\n",
       "      <td>-1.36</td>\n",
       "      <td>54.06</td>\n",
       "      <td>-2.04</td>\n",
       "    </tr>\n",
       "    <tr>\n",
       "      <th>1681</th>\n",
       "      <td>Home</td>\n",
       "      <td>SHOT</td>\n",
       "      <td>HEAD-OFF TARGET-OUT</td>\n",
       "      <td>2</td>\n",
       "      <td>117218</td>\n",
       "      <td>4688.72</td>\n",
       "      <td>117245</td>\n",
       "      <td>4689.8</td>\n",
       "      <td>Player9</td>\n",
       "      <td>NaN</td>\n",
       "      <td>41.34</td>\n",
       "      <td>-7.48</td>\n",
       "      <td>54.06</td>\n",
       "      <td>5.44</td>\n",
       "    </tr>\n",
       "    <tr>\n",
       "      <th>1756</th>\n",
       "      <td>Home</td>\n",
       "      <td>SHOT</td>\n",
       "      <td>HEAD-OFF TARGET-OUT</td>\n",
       "      <td>2</td>\n",
       "      <td>124336</td>\n",
       "      <td>4973.44</td>\n",
       "      <td>124365</td>\n",
       "      <td>4974.6</td>\n",
       "      <td>Player9</td>\n",
       "      <td>NaN</td>\n",
       "      <td>45.58</td>\n",
       "      <td>-0.00</td>\n",
       "      <td>55.12</td>\n",
       "      <td>-7.48</td>\n",
       "    </tr>\n",
       "    <tr>\n",
       "      <th>1927</th>\n",
       "      <td>Home</td>\n",
       "      <td>SHOT</td>\n",
       "      <td>ON TARGET-SAVED</td>\n",
       "      <td>2</td>\n",
       "      <td>139891</td>\n",
       "      <td>5595.64</td>\n",
       "      <td>139925</td>\n",
       "      <td>5597.0</td>\n",
       "      <td>Player9</td>\n",
       "      <td>NaN</td>\n",
       "      <td>21.20</td>\n",
       "      <td>-1.36</td>\n",
       "      <td>50.88</td>\n",
       "      <td>-1.36</td>\n",
       "    </tr>\n",
       "  </tbody>\n",
       "</table>\n",
       "</div>"
      ],
      "text/plain": [
       "      Team  Type              Subtype  Period  Start Frame  Start Time [s]  \\\n",
       "1118  Home  SHOT  HEAD-ON TARGET-GOAL       2        73983         2959.32   \n",
       "1681  Home  SHOT  HEAD-OFF TARGET-OUT       2       117218         4688.72   \n",
       "1756  Home  SHOT  HEAD-OFF TARGET-OUT       2       124336         4973.44   \n",
       "1927  Home  SHOT      ON TARGET-SAVED       2       139891         5595.64   \n",
       "\n",
       "      End Frame  End Time [s]     From   To  Start X  Start Y  End X  End Y  \n",
       "1118      73995        2959.8  Player9  NaN    47.70    -1.36  54.06  -2.04  \n",
       "1681     117245        4689.8  Player9  NaN    41.34    -7.48  54.06   5.44  \n",
       "1756     124365        4974.6  Player9  NaN    45.58    -0.00  55.12  -7.48  \n",
       "1927     139925        5597.0  Player9  NaN    21.20    -1.36  50.88  -1.36  "
      ]
     },
     "execution_count": 134,
     "metadata": {},
     "output_type": "execute_result"
    }
   ],
   "source": [
    "home_player9_shots"
   ]
  },
  {
   "cell_type": "code",
   "execution_count": 135,
   "metadata": {},
   "outputs": [],
   "source": [
    "goal_index = 1118\n",
    "goal_frame = 73983"
   ]
  },
  {
   "cell_type": "markdown",
   "metadata": {},
   "source": [
    "Reading in the tracking data."
   ]
  },
  {
   "cell_type": "code",
   "execution_count": 136,
   "metadata": {},
   "outputs": [
    {
     "name": "stdout",
     "output_type": "stream",
     "text": [
      "Reading team: home\n",
      "Reading team: away\n"
     ]
    }
   ],
   "source": [
    "tracking_home = mio.tracking_data(DATADIR,game_id,'Home')\n",
    "tracking_away = mio.tracking_data(DATADIR,game_id,'Away')"
   ]
  },
  {
   "cell_type": "code",
   "execution_count": 137,
   "metadata": {},
   "outputs": [],
   "source": [
    "tracking_home = mio.to_metric_coordinates(tracking_home)\n",
    "tracking_away = mio.to_metric_coordinates(tracking_away)"
   ]
  },
  {
   "cell_type": "code",
   "execution_count": 138,
   "metadata": {
    "scrolled": false
   },
   "outputs": [
    {
     "data": {
      "image/png": "[encoded data removed]",
      "text/plain": [
       "<Figure size 864x576 with 1 Axes>"
      ]
     },
     "metadata": {},
     "output_type": "display_data"
    }
   ],
   "source": [
    "fig,ax = mviz.plot_frame( tracking_home.loc[goal_frame], tracking_away.loc[goal_frame] )"
   ]
  },
  {
   "cell_type": "markdown",
   "metadata": {},
   "source": [
    "# Question 4"
   ]
  },
  {
   "cell_type": "code",
   "execution_count": 139,
   "metadata": {},
   "outputs": [
    {
     "data": {
      "text/html": [
       "<div>\n",
       "<style scoped>\n",
       "    .dataframe tbody tr th:only-of-type {\n",
       "        vertical-align: middle;\n",
       "    }\n",
       "\n",
       "    .dataframe tbody tr th {\n",
       "        vertical-align: top;\n",
       "    }\n",
       "\n",
       "    .dataframe thead th {\n",
       "        text-align: right;\n",
       "    }\n",
       "</style>\n",
       "<table border=\"1\" class=\"dataframe\">\n",
       "  <thead>\n",
       "    <tr style=\"text-align: right;\">\n",
       "      <th></th>\n",
       "      <th>Period</th>\n",
       "      <th>Time [s]</th>\n",
       "      <th>Home_11_x</th>\n",
       "      <th>Home_11_y</th>\n",
       "      <th>Home_1_x</th>\n",
       "      <th>Home_1_y</th>\n",
       "      <th>Home_2_x</th>\n",
       "      <th>Home_2_y</th>\n",
       "      <th>Home_3_x</th>\n",
       "      <th>Home_3_y</th>\n",
       "      <th>...</th>\n",
       "      <th>Home_10_x</th>\n",
       "      <th>Home_10_y</th>\n",
       "      <th>Home_12_x</th>\n",
       "      <th>Home_12_y</th>\n",
       "      <th>Home_13_x</th>\n",
       "      <th>Home_13_y</th>\n",
       "      <th>Home_14_x</th>\n",
       "      <th>Home_14_y</th>\n",
       "      <th>ball_x</th>\n",
       "      <th>ball_y</th>\n",
       "    </tr>\n",
       "    <tr>\n",
       "      <th>Frame</th>\n",
       "      <th></th>\n",
       "      <th></th>\n",
       "      <th></th>\n",
       "      <th></th>\n",
       "      <th></th>\n",
       "      <th></th>\n",
       "      <th></th>\n",
       "      <th></th>\n",
       "      <th></th>\n",
       "      <th></th>\n",
       "      <th></th>\n",
       "      <th></th>\n",
       "      <th></th>\n",
       "      <th></th>\n",
       "      <th></th>\n",
       "      <th></th>\n",
       "      <th></th>\n",
       "      <th></th>\n",
       "      <th></th>\n",
       "      <th></th>\n",
       "      <th></th>\n",
       "    </tr>\n",
       "  </thead>\n",
       "  <tbody>\n",
       "    <tr>\n",
       "      <th>1</th>\n",
       "      <td>1</td>\n",
       "      <td>0.04</td>\n",
       "      <td>46.9315</td>\n",
       "      <td>-0.28084</td>\n",
       "      <td>15.70072</td>\n",
       "      <td>14.5486</td>\n",
       "      <td>18.81712</td>\n",
       "      <td>4.89396</td>\n",
       "      <td>21.07492</td>\n",
       "      <td>-3.81208</td>\n",
       "      <td>...</td>\n",
       "      <td>0.20564</td>\n",
       "      <td>-7.56364</td>\n",
       "      <td>NaN</td>\n",
       "      <td>NaN</td>\n",
       "      <td>NaN</td>\n",
       "      <td>NaN</td>\n",
       "      <td>NaN</td>\n",
       "      <td>NaN</td>\n",
       "      <td>NaN</td>\n",
       "      <td>NaN</td>\n",
       "    </tr>\n",
       "    <tr>\n",
       "      <th>2</th>\n",
       "      <td>1</td>\n",
       "      <td>0.08</td>\n",
       "      <td>46.9315</td>\n",
       "      <td>-0.28084</td>\n",
       "      <td>15.70072</td>\n",
       "      <td>14.5486</td>\n",
       "      <td>18.81712</td>\n",
       "      <td>4.89396</td>\n",
       "      <td>21.07492</td>\n",
       "      <td>-3.81208</td>\n",
       "      <td>...</td>\n",
       "      <td>0.20564</td>\n",
       "      <td>-7.56364</td>\n",
       "      <td>NaN</td>\n",
       "      <td>NaN</td>\n",
       "      <td>NaN</td>\n",
       "      <td>NaN</td>\n",
       "      <td>NaN</td>\n",
       "      <td>NaN</td>\n",
       "      <td>NaN</td>\n",
       "      <td>NaN</td>\n",
       "    </tr>\n",
       "    <tr>\n",
       "      <th>3</th>\n",
       "      <td>1</td>\n",
       "      <td>0.12</td>\n",
       "      <td>46.9315</td>\n",
       "      <td>-0.28084</td>\n",
       "      <td>15.70072</td>\n",
       "      <td>14.5486</td>\n",
       "      <td>18.81712</td>\n",
       "      <td>4.89396</td>\n",
       "      <td>21.07492</td>\n",
       "      <td>-3.81208</td>\n",
       "      <td>...</td>\n",
       "      <td>0.20564</td>\n",
       "      <td>-7.56364</td>\n",
       "      <td>NaN</td>\n",
       "      <td>NaN</td>\n",
       "      <td>NaN</td>\n",
       "      <td>NaN</td>\n",
       "      <td>NaN</td>\n",
       "      <td>NaN</td>\n",
       "      <td>NaN</td>\n",
       "      <td>NaN</td>\n",
       "    </tr>\n",
       "    <tr>\n",
       "      <th>4</th>\n",
       "      <td>1</td>\n",
       "      <td>0.16</td>\n",
       "      <td>46.9315</td>\n",
       "      <td>-0.28084</td>\n",
       "      <td>15.70072</td>\n",
       "      <td>14.5486</td>\n",
       "      <td>18.81712</td>\n",
       "      <td>4.89396</td>\n",
       "      <td>21.07492</td>\n",
       "      <td>-3.81208</td>\n",
       "      <td>...</td>\n",
       "      <td>0.20564</td>\n",
       "      <td>-7.56364</td>\n",
       "      <td>NaN</td>\n",
       "      <td>NaN</td>\n",
       "      <td>NaN</td>\n",
       "      <td>NaN</td>\n",
       "      <td>NaN</td>\n",
       "      <td>NaN</td>\n",
       "      <td>NaN</td>\n",
       "      <td>NaN</td>\n",
       "    </tr>\n",
       "    <tr>\n",
       "      <th>5</th>\n",
       "      <td>1</td>\n",
       "      <td>0.20</td>\n",
       "      <td>46.9315</td>\n",
       "      <td>-0.28084</td>\n",
       "      <td>15.70072</td>\n",
       "      <td>14.5486</td>\n",
       "      <td>18.81712</td>\n",
       "      <td>4.89396</td>\n",
       "      <td>21.07492</td>\n",
       "      <td>-3.81208</td>\n",
       "      <td>...</td>\n",
       "      <td>0.20564</td>\n",
       "      <td>-7.56364</td>\n",
       "      <td>NaN</td>\n",
       "      <td>NaN</td>\n",
       "      <td>NaN</td>\n",
       "      <td>NaN</td>\n",
       "      <td>NaN</td>\n",
       "      <td>NaN</td>\n",
       "      <td>NaN</td>\n",
       "      <td>NaN</td>\n",
       "    </tr>\n",
       "  </tbody>\n",
       "</table>\n",
       "<p>5 rows × 32 columns</p>\n",
       "</div>"
      ],
      "text/plain": [
       "       Period  Time [s]  Home_11_x  Home_11_y  Home_1_x  Home_1_y  Home_2_x  \\\n",
       "Frame                                                                         \n",
       "1           1      0.04    46.9315   -0.28084  15.70072   14.5486  18.81712   \n",
       "2           1      0.08    46.9315   -0.28084  15.70072   14.5486  18.81712   \n",
       "3           1      0.12    46.9315   -0.28084  15.70072   14.5486  18.81712   \n",
       "4           1      0.16    46.9315   -0.28084  15.70072   14.5486  18.81712   \n",
       "5           1      0.20    46.9315   -0.28084  15.70072   14.5486  18.81712   \n",
       "\n",
       "       Home_2_y  Home_3_x  Home_3_y  ...  Home_10_x  Home_10_y  Home_12_x  \\\n",
       "Frame                                ...                                    \n",
       "1       4.89396  21.07492  -3.81208  ...    0.20564   -7.56364        NaN   \n",
       "2       4.89396  21.07492  -3.81208  ...    0.20564   -7.56364        NaN   \n",
       "3       4.89396  21.07492  -3.81208  ...    0.20564   -7.56364        NaN   \n",
       "4       4.89396  21.07492  -3.81208  ...    0.20564   -7.56364        NaN   \n",
       "5       4.89396  21.07492  -3.81208  ...    0.20564   -7.56364        NaN   \n",
       "\n",
       "       Home_12_y  Home_13_x  Home_13_y  Home_14_x  Home_14_y  ball_x  ball_y  \n",
       "Frame                                                                         \n",
       "1            NaN        NaN        NaN        NaN        NaN     NaN     NaN  \n",
       "2            NaN        NaN        NaN        NaN        NaN     NaN     NaN  \n",
       "3            NaN        NaN        NaN        NaN        NaN     NaN     NaN  \n",
       "4            NaN        NaN        NaN        NaN        NaN     NaN     NaN  \n",
       "5            NaN        NaN        NaN        NaN        NaN     NaN     NaN  \n",
       "\n",
       "[5 rows x 32 columns]"
      ]
     },
     "execution_count": 139,
     "metadata": {},
     "output_type": "execute_result"
    }
   ],
   "source": [
    "tracking_home.head()"
   ]
  },
  {
   "cell_type": "code",
   "execution_count": 140,
   "metadata": {
    "scrolled": true
   },
   "outputs": [
    {
     "data": {
      "text/plain": [
       "141156"
      ]
     },
     "execution_count": 140,
     "metadata": {},
     "output_type": "execute_result"
    }
   ],
   "source": [
    "len(tracking_home)"
   ]
  },
  {
   "cell_type": "code",
   "execution_count": 141,
   "metadata": {},
   "outputs": [],
   "source": [
    "home_1st = tracking_home[tracking_home['Period']==1]\n",
    "home_2nd = tracking_home[tracking_home['Period']==2]"
   ]
  },
  {
   "cell_type": "code",
   "execution_count": 142,
   "metadata": {},
   "outputs": [],
   "source": [
    "away_1st = tracking_away[tracking_away['Period']==1]\n",
    "away_2nd = tracking_away[tracking_away['Period']==2]"
   ]
  },
  {
   "cell_type": "code",
   "execution_count": 143,
   "metadata": {},
   "outputs": [
    {
     "data": {
      "text/plain": [
       "Index(['Period', 'Time [s]', 'Home_11_x', 'Home_11_y', 'Home_1_x', 'Home_1_y',\n",
       "       'Home_2_x', 'Home_2_y', 'Home_3_x', 'Home_3_y', 'Home_4_x', 'Home_4_y',\n",
       "       'Home_5_x', 'Home_5_y', 'Home_6_x', 'Home_6_y', 'Home_7_x', 'Home_7_y',\n",
       "       'Home_8_x', 'Home_8_y', 'Home_9_x', 'Home_9_y', 'Home_10_x',\n",
       "       'Home_10_y', 'Home_12_x', 'Home_12_y', 'Home_13_x', 'Home_13_y',\n",
       "       'Home_14_x', 'Home_14_y', 'ball_x', 'ball_y'],\n",
       "      dtype='object')"
      ]
     },
     "execution_count": 143,
     "metadata": {},
     "output_type": "execute_result"
    }
   ],
   "source": [
    "home_1st.columns"
   ]
  },
  {
   "cell_type": "code",
   "execution_count": 144,
   "metadata": {},
   "outputs": [],
   "source": [
    "home_players = set()\n",
    "away_players = set()\n",
    "for i in tracking_home.columns:\n",
    "    if \"_\" in i and \"ball\" not in i:\n",
    "        home_players.add(i[:-2])\n",
    "for i in tracking_away.columns:\n",
    "    if '_' in i and \"ball\" not in i:\n",
    "        away_players.add(i[:-2])"
   ]
  },
  {
   "cell_type": "code",
   "execution_count": 145,
   "metadata": {},
   "outputs": [],
   "source": [
    "import numpy as np"
   ]
  },
  {
   "cell_type": "code",
   "execution_count": 146,
   "metadata": {},
   "outputs": [
    {
     "name": "stdout",
     "output_type": "stream",
     "text": [
      "Home_13 0.0\n",
      "Home_14 0.0\n",
      "Home_2 5234.367836055602\n",
      "Home_8 5915.305582064596\n",
      "Home_11 2730.157719800678\n",
      "Home_4 5264.5258867943785\n",
      "Home_3 4943.880553249501\n",
      "Home_9 4904.2591225167\n",
      "Home_6 6141.861243872853\n",
      "Home_10 5052.712382280096\n",
      "Home_12 0.0\n",
      "Home_1 5541.165731147004\n",
      "Home_5 6406.903992475689\n",
      "Home_7 6004.3955928720525\n"
     ]
    }
   ],
   "source": [
    "home_1st_diff = home_1st.diff()**2\n",
    "home_1st_dist = {}\n",
    "for i in home_players:\n",
    "    dist = np.sqrt(home_1st_diff[i+\"_x\"] + home_1st_diff[i+\"_y\"]).sum()\n",
    "    home_1st_dist[i] = dist\n",
    "    print(i,dist)"
   ]
  },
  {
   "cell_type": "code",
   "execution_count": 147,
   "metadata": {},
   "outputs": [
    {
     "name": "stdout",
     "output_type": "stream",
     "text": [
      "Home_13 2395.6893205258693\n",
      "Home_14 1092.9248875907788\n",
      "Home_2 4737.72133902686\n",
      "Home_8 3167.399414816822\n",
      "Home_11 2519.9733666096117\n",
      "Home_4 2021.0818466304738\n",
      "Home_3 4651.922962336163\n",
      "Home_9 4944.7798443677\n",
      "Home_6 5448.334659537634\n",
      "Home_10 4007.913246311054\n",
      "Home_12 3092.0698001008623\n",
      "Home_1 4880.147143152079\n",
      "Home_5 5812.280283362441\n",
      "Home_7 5281.344775507947\n"
     ]
    }
   ],
   "source": [
    "home_2nd_diff = home_2nd.diff()**2\n",
    "home_2nd_dist = {}\n",
    "for i in home_players:\n",
    "    dist = np.sqrt(home_2nd_diff[i+\"_x\"] + home_2nd_diff[i+\"_y\"]).sum()\n",
    "    home_2nd_dist[i] = dist\n",
    "    print(i,dist)"
   ]
  },
  {
   "cell_type": "code",
   "execution_count": 148,
   "metadata": {},
   "outputs": [
    {
     "name": "stdout",
     "output_type": "stream",
     "text": [
      "Away_15 5158.728566729623\n",
      "Away_18 5433.918520073896\n",
      "Away_23 5279.59806429418\n",
      "Away_16 4868.669990824233\n",
      "Away_19 5828.303846526516\n",
      "Away_21 5309.478696559477\n",
      "Away_26 0.0\n",
      "Away_17 4913.067674262975\n",
      "Away_25 1729.8325660424232\n",
      "Away_22 5048.505824477667\n",
      "Away_24 5428.332503636212\n",
      "Away_20 5667.043904814538\n"
     ]
    }
   ],
   "source": [
    "away_1st_diff = away_1st.diff()**2\n",
    "away_1st_dist = {}\n",
    "for i in away_players:\n",
    "    dist = np.sqrt(away_1st_diff[i+\"_x\"] + away_1st_diff[i+\"_y\"]).sum()\n",
    "    away_1st_dist[i] = dist\n",
    "    print(i,dist)"
   ]
  },
  {
   "cell_type": "code",
   "execution_count": 149,
   "metadata": {},
   "outputs": [
    {
     "name": "stdout",
     "output_type": "stream",
     "text": [
      "Away_15 5158.728566729623\n",
      "Away_18 5433.918520073896\n",
      "Away_23 5279.59806429418\n",
      "Away_16 4868.669990824233\n",
      "Away_19 5828.303846526516\n",
      "Away_21 5309.478696559477\n",
      "Away_26 0.0\n",
      "Away_17 4913.067674262975\n",
      "Away_25 1729.8325660424232\n",
      "Away_22 5048.505824477667\n",
      "Away_24 5428.332503636212\n",
      "Away_20 5667.043904814538\n"
     ]
    }
   ],
   "source": [
    "away_2nd_diff = away_1st.diff()**2\n",
    "away_2nd_dist = {}\n",
    "for i in away_players:\n",
    "    dist = np.sqrt(away_2nd_diff[i+\"_x\"] + away_2nd_diff[i+\"_y\"]).sum()\n",
    "    away_2nd_dist[i] = dist\n",
    "    print(i,dist)"
   ]
  },
  {
   "cell_type": "code",
   "execution_count": 150,
   "metadata": {},
   "outputs": [
    {
     "name": "stdout",
     "output_type": "stream",
     "text": [
      "HOME PLAYERS DISTANCE COVERED\n",
      "Home_13 2395.6893205258693\n",
      "Home_14 1092.9248875907788\n",
      "Home_2 9972.089175082463\n",
      "Home_8 9082.704996881417\n",
      "Home_11 5250.13108641029\n",
      "Home_4 7285.607733424852\n",
      "Home_3 9595.803515585663\n",
      "Home_9 9849.0389668844\n",
      "Home_6 11590.195903410488\n",
      "Home_10 9060.62562859115\n",
      "Home_12 3092.0698001008623\n",
      "Home_1 10421.312874299083\n",
      "Home_5 12219.18427583813\n",
      "Home_7 11285.74036838\n",
      "\n",
      "AWAY PLAYERS DISTANCE COVERED\n",
      "Away_15 10317.457133459246\n",
      "Away_18 10867.837040147791\n",
      "Away_23 10559.19612858836\n",
      "Away_16 9737.339981648465\n",
      "Away_19 11656.607693053033\n",
      "Away_21 10618.957393118953\n",
      "Away_26 0.0\n",
      "Away_17 9826.13534852595\n",
      "Away_25 3459.6651320848464\n",
      "Away_22 10097.011648955335\n",
      "Away_24 10856.665007272424\n",
      "Away_20 11334.087809629076\n"
     ]
    }
   ],
   "source": [
    "#Total Distances:\n",
    "print(\"HOME PLAYERS DISTANCE COVERED\")\n",
    "for i in home_players:\n",
    "    print(i,home_1st_dist[i]+home_2nd_dist[i])\n",
    "print() #Newline\n",
    "print('AWAY PLAYERS DISTANCE COVERED')\n",
    "for i in away_players:\n",
    "    print(i,away_1st_dist[i]+away_2nd_dist[i])"
   ]
  }
 ],
 "metadata": {
  "kernelspec": {
   "display_name": "Python 3",
   "language": "python",
   "name": "python3"
  },
  "language_info": {
   "codemirror_mode": {
    "name": "ipython",
    "version": 3
   },
   "file_extension": ".py",
   "mimetype": "text/x-python",
   "name": "python",
   "nbconvert_exporter": "python",
   "pygments_lexer": "ipython3",
   "version": "3.6.8"
  }
 },
 "nbformat": 4,
 "nbformat_minor": 2
}
