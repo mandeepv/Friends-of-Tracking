{
 "cells": [
  {
   "cell_type": "markdown",
   "metadata": {},
   "source": [
    "The below is the Solution to the 2nd Session on Friends Of Tracking Introduction to Tracking Data series."
   ]
  },
  {
   "cell_type": "code",
   "execution_count": 1,
   "metadata": {},
   "outputs": [],
   "source": [
    "import Metrica_IO as mio\n",
    "import Metrica_Viz as mviz\n",
    "import Metrica_Velocities as mvel\n",
    "import matplotlib.pyplot as plt\n",
    "import numpy as np\n",
    "import pandas as pd"
   ]
  },
  {
   "cell_type": "code",
   "execution_count": 2,
   "metadata": {},
   "outputs": [],
   "source": [
    "# set up initial path to data\n",
    "DATADIR = 'D:/Users/Desktop/Friends of Tracking/Lesson 5/Metrica Data/data'\n",
    "game_id = 2 # let's look at sample match 2"
   ]
  },
  {
   "cell_type": "code",
   "execution_count": 3,
   "metadata": {},
   "outputs": [],
   "source": [
    "# read in the event data\n",
    "events = mio.read_event_data(DATADIR,game_id)"
   ]
  },
  {
   "cell_type": "code",
   "execution_count": 4,
   "metadata": {},
   "outputs": [
    {
     "name": "stdout",
     "output_type": "stream",
     "text": [
      "Reading team: home\n",
      "Reading team: away\n"
     ]
    }
   ],
   "source": [
    "# read in tracking data\n",
    "tracking_home = mio.tracking_data(DATADIR,game_id,'Home')\n",
    "tracking_away = mio.tracking_data(DATADIR,game_id,'Away')"
   ]
  },
  {
   "cell_type": "code",
   "execution_count": 5,
   "metadata": {},
   "outputs": [],
   "source": [
    "# Convert positions from metrica units to meters (note change in Metrica's coordinate system since the last lesson)\n",
    "tracking_home = mio.to_metric_coordinates(tracking_home)\n",
    "tracking_away = mio.to_metric_coordinates(tracking_away)\n",
    "events = mio.to_metric_coordinates(events)"
   ]
  },
  {
   "cell_type": "code",
   "execution_count": 6,
   "metadata": {},
   "outputs": [],
   "source": [
    "# reverse direction of play in the second half so that home team is always attacking from right->left\n",
    "tracking_home,tracking_away,events = mio.to_single_playing_direction(tracking_home,tracking_away,events)"
   ]
  },
  {
   "cell_type": "code",
   "execution_count": 7,
   "metadata": {},
   "outputs": [],
   "source": [
    "# Calculate player velocities\n",
    "tracking_home = mvel.calc_player_velocities(tracking_home,smoothing=True,filter_='moving average')\n",
    "tracking_away = mvel.calc_player_velocities(tracking_away,smoothing=True,filter_='moving average')"
   ]
  },
  {
   "cell_type": "code",
   "execution_count": 8,
   "metadata": {},
   "outputs": [
    {
     "data": {
      "text/plain": [
       "(<Figure size 864x576 with 1 Axes>,\n",
       " <matplotlib.axes._subplots.AxesSubplot at 0x1dcf262bda0>)"
      ]
     },
     "execution_count": 8,
     "metadata": {},
     "output_type": "execute_result"
    },
    {
     "data": {
      "image/png": "[encoded data removed]",
      "text/plain": [
       "<Figure size 864x576 with 1 Axes>"
      ]
     },
     "metadata": {},
     "output_type": "display_data"
    }
   ],
   "source": [
    "# plot a random frame, plotting the player velocities using quivers\n",
    "mviz.plot_frame( tracking_home.loc[10000], tracking_away.loc[10000], include_player_velocities=True, annotate=True)"
   ]
  },
  {
   "cell_type": "markdown",
   "metadata": {},
   "source": [
    "# Question 1: Estimate the top speed of each player"
   ]
  },
  {
   "cell_type": "code",
   "execution_count": 9,
   "metadata": {},
   "outputs": [],
   "source": [
    "# Create a Physical summary dataframe for home players\n",
    "home_players = np.unique( [ c.split('_')[1] for c in tracking_home.columns if c[:4] == 'Home' ] )\n",
    "home_summary = pd.DataFrame(index=home_players)\n",
    "\n",
    "# Create a Physical summary dataframe for away players\n",
    "away_players = np.unique( [ c.split('_')[1] for c in tracking_away.columns if c[:4] == 'Away' ] )\n",
    "away_summary = pd.DataFrame(index=away_players)"
   ]
  },
  {
   "cell_type": "markdown",
   "metadata": {},
   "source": [
    "Calculating Sustained sprints to find the Number of Sprints each player makes"
   ]
  },
  {
   "cell_type": "code",
   "execution_count": 10,
   "metadata": {},
   "outputs": [],
   "source": [
    "# sustained sprints: how many sustained sprints per match did each player complete? Defined as maintaining a speed > 7 m/s for at least 1 second\n",
    "nsprints = []\n",
    "sprint_threshold = 7 # minimum speed to be defined as a sprint (m/s)\n",
    "sprint_window = 1*25 # minimum duration sprint should be sustained (in this case, 1 second = 25 consecutive frames)\n",
    "for player in home_summary.index:\n",
    "    column = 'Home_' + player + '_speed'\n",
    "    # trick here is to convolve speed with a window of size 'sprint_window', and find number of occassions that sprint was sustained for at least one window length\n",
    "    # diff helps us to identify when the window starts\n",
    "    player_sprints = np.diff( 1*( np.convolve( 1*(tracking_home[column]>=sprint_threshold), np.ones(sprint_window), mode='same' ) >= sprint_window ) )\n",
    "    nsprints.append( np.sum( player_sprints == 1 ) )\n",
    "home_summary['# sprints'] = nsprints"
   ]
  },
  {
   "cell_type": "code",
   "execution_count": 11,
   "metadata": {},
   "outputs": [],
   "source": [
    "nsprints = []\n",
    "sprint_threshold = 7 # minimum speed to be defined as a sprint (m/s)\n",
    "sprint_window = 1*25 # minimum duration sprint should be sustained (in this case, 1 second = 25 consecutive frames)\n",
    "for player in away_summary.index:\n",
    "    column = 'Away_' + player + '_speed'\n",
    "    # trick here is to convolve speed with a window of size 'sprint_window', and find number of occassions that sprint was sustained for at least one window length\n",
    "    # diff helps us to identify when the window starts\n",
    "    player_sprints = np.diff( 1*( np.convolve( 1*(tracking_away[column]>=sprint_threshold), np.ones(sprint_window), mode='same' ) >= sprint_window ) )\n",
    "    nsprints.append( np.sum( player_sprints == 1 ) )\n",
    "away_summary['# sprints'] = nsprints"
   ]
  },
  {
   "cell_type": "code",
   "execution_count": 12,
   "metadata": {},
   "outputs": [
    {
     "data": {
      "text/html": [
       "<div>\n",
       "<style scoped>\n",
       "    .dataframe tbody tr th:only-of-type {\n",
       "        vertical-align: middle;\n",
       "    }\n",
       "\n",
       "    .dataframe tbody tr th {\n",
       "        vertical-align: top;\n",
       "    }\n",
       "\n",
       "    .dataframe thead th {\n",
       "        text-align: right;\n",
       "    }\n",
       "</style>\n",
       "<table border=\"1\" class=\"dataframe\">\n",
       "  <thead>\n",
       "    <tr style=\"text-align: right;\">\n",
       "      <th></th>\n",
       "      <th># sprints</th>\n",
       "    </tr>\n",
       "  </thead>\n",
       "  <tbody>\n",
       "    <tr>\n",
       "      <th>1</th>\n",
       "      <td>5</td>\n",
       "    </tr>\n",
       "    <tr>\n",
       "      <th>10</th>\n",
       "      <td>13</td>\n",
       "    </tr>\n",
       "    <tr>\n",
       "      <th>11</th>\n",
       "      <td>0</td>\n",
       "    </tr>\n",
       "    <tr>\n",
       "      <th>12</th>\n",
       "      <td>2</td>\n",
       "    </tr>\n",
       "    <tr>\n",
       "      <th>13</th>\n",
       "      <td>2</td>\n",
       "    </tr>\n",
       "    <tr>\n",
       "      <th>14</th>\n",
       "      <td>1</td>\n",
       "    </tr>\n",
       "    <tr>\n",
       "      <th>2</th>\n",
       "      <td>3</td>\n",
       "    </tr>\n",
       "    <tr>\n",
       "      <th>3</th>\n",
       "      <td>8</td>\n",
       "    </tr>\n",
       "    <tr>\n",
       "      <th>4</th>\n",
       "      <td>0</td>\n",
       "    </tr>\n",
       "    <tr>\n",
       "      <th>5</th>\n",
       "      <td>8</td>\n",
       "    </tr>\n",
       "    <tr>\n",
       "      <th>6</th>\n",
       "      <td>7</td>\n",
       "    </tr>\n",
       "    <tr>\n",
       "      <th>7</th>\n",
       "      <td>9</td>\n",
       "    </tr>\n",
       "    <tr>\n",
       "      <th>8</th>\n",
       "      <td>6</td>\n",
       "    </tr>\n",
       "    <tr>\n",
       "      <th>9</th>\n",
       "      <td>7</td>\n",
       "    </tr>\n",
       "  </tbody>\n",
       "</table>\n",
       "</div>"
      ],
      "text/plain": [
       "    # sprints\n",
       "1           5\n",
       "10         13\n",
       "11          0\n",
       "12          2\n",
       "13          2\n",
       "14          1\n",
       "2           3\n",
       "3           8\n",
       "4           0\n",
       "5           8\n",
       "6           7\n",
       "7           9\n",
       "8           6\n",
       "9           7"
      ]
     },
     "execution_count": 12,
     "metadata": {},
     "output_type": "execute_result"
    }
   ],
   "source": [
    "home_summary"
   ]
  },
  {
   "cell_type": "code",
   "execution_count": 13,
   "metadata": {},
   "outputs": [
    {
     "data": {
      "text/html": [
       "<div>\n",
       "<style scoped>\n",
       "    .dataframe tbody tr th:only-of-type {\n",
       "        vertical-align: middle;\n",
       "    }\n",
       "\n",
       "    .dataframe tbody tr th {\n",
       "        vertical-align: top;\n",
       "    }\n",
       "\n",
       "    .dataframe thead th {\n",
       "        text-align: right;\n",
       "    }\n",
       "</style>\n",
       "<table border=\"1\" class=\"dataframe\">\n",
       "  <thead>\n",
       "    <tr style=\"text-align: right;\">\n",
       "      <th></th>\n",
       "      <th># sprints</th>\n",
       "    </tr>\n",
       "  </thead>\n",
       "  <tbody>\n",
       "    <tr>\n",
       "      <th>15</th>\n",
       "      <td>3</td>\n",
       "    </tr>\n",
       "    <tr>\n",
       "      <th>16</th>\n",
       "      <td>4</td>\n",
       "    </tr>\n",
       "    <tr>\n",
       "      <th>17</th>\n",
       "      <td>4</td>\n",
       "    </tr>\n",
       "    <tr>\n",
       "      <th>18</th>\n",
       "      <td>11</td>\n",
       "    </tr>\n",
       "    <tr>\n",
       "      <th>19</th>\n",
       "      <td>8</td>\n",
       "    </tr>\n",
       "    <tr>\n",
       "      <th>20</th>\n",
       "      <td>1</td>\n",
       "    </tr>\n",
       "    <tr>\n",
       "      <th>21</th>\n",
       "      <td>3</td>\n",
       "    </tr>\n",
       "    <tr>\n",
       "      <th>22</th>\n",
       "      <td>8</td>\n",
       "    </tr>\n",
       "    <tr>\n",
       "      <th>23</th>\n",
       "      <td>10</td>\n",
       "    </tr>\n",
       "    <tr>\n",
       "      <th>24</th>\n",
       "      <td>9</td>\n",
       "    </tr>\n",
       "    <tr>\n",
       "      <th>25</th>\n",
       "      <td>0</td>\n",
       "    </tr>\n",
       "    <tr>\n",
       "      <th>26</th>\n",
       "      <td>6</td>\n",
       "    </tr>\n",
       "  </tbody>\n",
       "</table>\n",
       "</div>"
      ],
      "text/plain": [
       "    # sprints\n",
       "15          3\n",
       "16          4\n",
       "17          4\n",
       "18         11\n",
       "19          8\n",
       "20          1\n",
       "21          3\n",
       "22          8\n",
       "23         10\n",
       "24          9\n",
       "25          0\n",
       "26          6"
      ]
     },
     "execution_count": 13,
     "metadata": {},
     "output_type": "execute_result"
    }
   ],
   "source": [
    "away_summary"
   ]
  },
  {
   "cell_type": "markdown",
   "metadata": {},
   "source": [
    "There's a group of three players who made >=10 sprints."
   ]
  },
  {
   "cell_type": "markdown",
   "metadata": {},
   "source": [
    "It seems like a pretty good assumption that a player would have reached his/her top speed in making >=10 sprints"
   ]
  },
  {
   "cell_type": "code",
   "execution_count": 14,
   "metadata": {},
   "outputs": [
    {
     "name": "stdout",
     "output_type": "stream",
     "text": [
      "5.0305849937056895\n",
      "4.428677948788836\n",
      "4.617069500842264\n"
     ]
    }
   ],
   "source": [
    "#Let's see the Relationship between top speeds and 70th percentile speeds of these players\n",
    "\n",
    "print(tracking_home['Home_10_speed'].max()/tracking_home['Home_10_speed'].quantile(q=0.7))\n",
    "print(tracking_away['Away_18_speed'].max()/tracking_away['Away_18_speed'].quantile(q=0.7))\n",
    "print(tracking_away['Away_23_speed'].max()/tracking_away['Away_23_speed'].quantile(q=0.7))"
   ]
  },
  {
   "cell_type": "markdown",
   "metadata": {},
   "source": [
    "It seems a multiplying factor of ~4.5 would work quite well to estimate top speed for other players."
   ]
  },
  {
   "cell_type": "code",
   "execution_count": 15,
   "metadata": {
    "scrolled": true
   },
   "outputs": [
    {
     "name": "stdout",
     "output_type": "stream",
     "text": [
      "Home_Player_1: 10.49\n",
      "Home_Player_10: 10.29\n",
      "Home_Player_11: 9.95\n",
      "Home_Player_12: 10.43\n",
      "Home_Player_13: 9.03\n",
      "Home_Player_14: 9.81\n",
      "Home_Player_2: 9.44\n",
      "Home_Player_3: 10.25\n",
      "Home_Player_4: 10.65\n",
      "Home_Player_5: 12.21\n",
      "Home_Player_6: 12.4\n",
      "Home_Player_7: 11.39\n",
      "Home_Player_8: 12.28\n",
      "Home_Player_9: 9.25\n"
     ]
    }
   ],
   "source": [
    "for i in home_summary.index:\n",
    "    top_speed = max(round(tracking_home['Home_'+i+'_speed'].max(),2),round(tracking_home['Home_'+i+'_speed'].quantile(q=0.7)*4.5,2))\n",
    "    print('Home_Player_'+i+\":\",top_speed)"
   ]
  },
  {
   "cell_type": "code",
   "execution_count": 16,
   "metadata": {},
   "outputs": [
    {
     "name": "stdout",
     "output_type": "stream",
     "text": [
      "Away_Player_15: 11.42\n",
      "Away_Player_16: 11.08\n",
      "Away_Player_17: 9.66\n",
      "Away_Player_18: 10.12\n",
      "Away_Player_19: 11.29\n",
      "Away_Player_20: 11.7\n",
      "Away_Player_21: 9.98\n",
      "Away_Player_22: 9.72\n",
      "Away_Player_23: 8.93\n",
      "Away_Player_24: 9.73\n",
      "Away_Player_25: 10.69\n",
      "Away_Player_26: 9.34\n"
     ]
    }
   ],
   "source": [
    "for i in away_summary.index:\n",
    "    top_speed = max(round(tracking_away['Away_'+i+'_speed'].max(),2),round(tracking_away['Away_'+i+'_speed'].quantile(q=0.7)*4.5,2))\n",
    "    print('Away_Player_'+i+\":\",top_speed)"
   ]
  },
  {
   "cell_type": "markdown",
   "metadata": {},
   "source": [
    "This is maybe not the best way to estimate top speeds and they certainly do not work for goalkeepers so the values should be taken with a pinch of salt."
   ]
  },
  {
   "cell_type": "markdown",
   "metadata": {},
   "source": [
    "I believe Laurie will have a better way of estimating these top speeds."
   ]
  },
  {
   "cell_type": "markdown",
   "metadata": {},
   "source": [
    "# Question 2: Measure player acceleration from the tracking data and estimate the maximum rate of acceleration for each player"
   ]
  },
  {
   "cell_type": "code",
   "execution_count": 17,
   "metadata": {},
   "outputs": [],
   "source": [
    "home_speed_cols = [c for c in tracking_home.columns if 'speed' in c]\n",
    "away_speed_cols = [c for c in tracking_away.columns if 'speed' in c]"
   ]
  },
  {
   "cell_type": "code",
   "execution_count": 18,
   "metadata": {},
   "outputs": [],
   "source": [
    "#To calculate Accelerations\n",
    "\n",
    "home_acc = tracking_home[home_speed_cols].diff()/0.04\n",
    "away_acc = tracking_away[away_speed_cols].diff()/0.04"
   ]
  },
  {
   "cell_type": "code",
   "execution_count": 19,
   "metadata": {},
   "outputs": [],
   "source": [
    "home_speed_cols = home_acc.columns\n",
    "home_acc_cols = []\n",
    "for i in home_speed_cols:\n",
    "    i=i.replace('speed','acc')\n",
    "    home_acc_cols.append(i)\n",
    "    \n",
    "away_speed_cols = away_acc.columns\n",
    "away_acc_cols = []\n",
    "for i in away_speed_cols:\n",
    "    i=i.replace('speed','acc')\n",
    "    away_acc_cols.append(i)"
   ]
  },
  {
   "cell_type": "code",
   "execution_count": 20,
   "metadata": {},
   "outputs": [],
   "source": [
    "home_acc.columns = home_acc_cols\n",
    "away_acc.columns = away_acc_cols"
   ]
  },
  {
   "cell_type": "code",
   "execution_count": 21,
   "metadata": {},
   "outputs": [],
   "source": [
    "home_acc = home_acc.apply(lambda x:[y if abs(y)<=10 else 'NaN' for y in x])\n",
    "away_acc = away_acc.apply(lambda x:[y if abs(y)<=10 else 'NaN' for y in x])"
   ]
  },
  {
   "cell_type": "code",
   "execution_count": 22,
   "metadata": {},
   "outputs": [],
   "source": [
    "home_acc = home_acc.astype('float')\n",
    "away_acc = away_acc.astype('float')"
   ]
  },
  {
   "cell_type": "code",
   "execution_count": 23,
   "metadata": {
    "scrolled": true
   },
   "outputs": [
    {
     "data": {
      "text/plain": [
       "Home_1_acc     9.965972\n",
       "Home_10_acc    9.976902\n",
       "Home_11_acc    9.869373\n",
       "Home_12_acc    9.697543\n",
       "Home_13_acc    9.911306\n",
       "Home_14_acc    9.792610\n",
       "Home_2_acc     9.932294\n",
       "Home_3_acc     9.980101\n",
       "Home_4_acc     9.988945\n",
       "Home_5_acc     9.995834\n",
       "Home_6_acc     9.980079\n",
       "Home_7_acc     9.995021\n",
       "Home_8_acc     9.492847\n",
       "Home_9_acc     9.935818\n",
       "dtype: float64"
      ]
     },
     "execution_count": 23,
     "metadata": {},
     "output_type": "execute_result"
    }
   ],
   "source": [
    "home_acc.max()"
   ]
  },
  {
   "cell_type": "code",
   "execution_count": 24,
   "metadata": {},
   "outputs": [
    {
     "data": {
      "text/plain": [
       "Away_15_acc    9.941704\n",
       "Away_16_acc    9.993423\n",
       "Away_17_acc    9.763942\n",
       "Away_18_acc    9.988715\n",
       "Away_19_acc    9.996621\n",
       "Away_20_acc    9.930703\n",
       "Away_21_acc    8.562663\n",
       "Away_22_acc    9.573369\n",
       "Away_23_acc    9.970361\n",
       "Away_24_acc    9.968750\n",
       "Away_25_acc    9.906095\n",
       "Away_26_acc    9.994877\n",
       "dtype: float64"
      ]
     },
     "execution_count": 24,
     "metadata": {},
     "output_type": "execute_result"
    }
   ],
   "source": [
    "away_acc.max()"
   ]
  },
  {
   "cell_type": "code",
   "execution_count": 27,
   "metadata": {
    "scrolled": false
   },
   "outputs": [
    {
     "name": "stdout",
     "output_type": "stream",
     "text": [
      "35.15832351836984\n",
      "32.78774182021461\n",
      "37.83677956883307\n"
     ]
    }
   ],
   "source": [
    "#Let's see the Relationship between top accelerations and 70th percentile accelerations of these players\n",
    "\n",
    "print(home_acc['Home_10_acc'].max()/home_acc['Home_10_acc'].quantile(q=0.7))\n",
    "print(away_acc['Away_18_acc'].max()/away_acc['Away_18_acc'].quantile(q=0.7))\n",
    "print(away_acc['Away_23_acc'].max()/away_acc['Away_23_acc'].quantile(q=0.7))"
   ]
  },
  {
   "cell_type": "markdown",
   "metadata": {},
   "source": [
    "A factor of ~35 seems good"
   ]
  },
  {
   "cell_type": "code",
   "execution_count": 30,
   "metadata": {
    "scrolled": false
   },
   "outputs": [
    {
     "name": "stdout",
     "output_type": "stream",
     "text": [
      "Home_Player_1: 9.965971746239422\n",
      "Home_Player_10: 9.976902234017592\n",
      "Home_Player_11: 9.937347309169326\n",
      "Home_Player_12: 9.813919773405138\n",
      "Home_Player_13: 9.911305643672364\n",
      "Home_Player_14: 9.792610150905423\n",
      "Home_Player_2: 9.932294132097569\n",
      "Home_Player_3: 9.980100550103987\n",
      "Home_Player_4: 9.98894510787036\n",
      "Home_Player_5: 9.995833626296612\n",
      "Home_Player_6: 9.980079030163735\n",
      "Home_Player_7: 9.995020740709814\n",
      "Home_Player_8: 9.492847033172913\n",
      "Home_Player_9: 9.935817911905293\n",
      "Away_Player_15: 9.941704024321252\n",
      "Away_Player_16: 9.99342334663299\n",
      "Away_Player_17: 9.763941939060016\n",
      "Away_Player_18: 9.988715209107813\n",
      "Away_Player_19: 9.996621488829538\n",
      "Away_Player_20: 9.930702973778516\n",
      "Away_Player_21: 8.562662715212833\n",
      "Away_Player_22: 9.57336940038328\n",
      "Away_Player_23: 9.970361056840071\n",
      "Away_Player_24: 9.968749809261473\n",
      "Away_Player_25: 9.906095178624351\n",
      "Away_Player_26: 9.994877105295725\n"
     ]
    }
   ],
   "source": [
    "for i in home_summary.index:\n",
    "    top_acc = max(home_acc['Home_'+i+'_acc'].max(),home_acc['Home_'+i+'_acc'].quantile(q=0.7)*35)\n",
    "    if top_acc<=10:\n",
    "        print('Home_Player_'+i+\":\",top_acc)\n",
    "    else:\n",
    "        print('Home_Player_'+i+\":\",home_acc['Home_'+i+'_acc'].max())\n",
    "\n",
    "for i in away_summary.index:\n",
    "    top_acc = max(away_acc['Away_'+i+'_acc'].max(),away_acc['Away_'+i+'_acc'].quantile(q=0.7)*35)\n",
    "    if top_acc<=10:\n",
    "        print('Away_Player_'+i+\":\",top_acc)\n",
    "    else:\n",
    "        print('Away_Player_'+i+\":\",away_acc['Away_'+i+'_acc'].max())"
   ]
  },
  {
   "cell_type": "markdown",
   "metadata": {},
   "source": [
    "I'm not quite sure the approach works well for estimation of Top Accelerations as the values are very simiar to one another."
   ]
  }
 ],
 "metadata": {
  "kernelspec": {
   "display_name": "Python 3",
   "language": "python",
   "name": "python3"
  },
  "language_info": {
   "codemirror_mode": {
    "name": "ipython",
    "version": 3
   },
   "file_extension": ".py",
   "mimetype": "text/x-python",
   "name": "python",
   "nbconvert_exporter": "python",
   "pygments_lexer": "ipython3",
   "version": "3.6.8"
  }
 },
 "nbformat": 4,
 "nbformat_minor": 2
}
